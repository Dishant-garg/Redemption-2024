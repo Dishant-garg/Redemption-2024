{
  "nbformat": 4,
  "nbformat_minor": 0,
  "metadata": {
    "colab": {
      "provenance": []
    },
    "kernelspec": {
      "name": "python3",
      "display_name": "Python 3"
    },
    "language_info": {
      "name": "python"
    }
  },
  "cells": [
    {
      "cell_type": "code",
      "execution_count": 2,
      "metadata": {
        "id": "PUiKs_dDt0Vd"
      },
      "outputs": [],
      "source": [
        "import numpy as np\n",
        "import pandas as pd\n",
        "import matplotlib.pyplot as plt\n",
        "from sklearn.preprocessing import LabelEncoder\n",
        "from sklearn.model_selection import train_test_split\n",
        "from sklearn.impute import SimpleImputer\n",
        "import seaborn as sns\n"
      ]
    },
    {
      "cell_type": "code",
      "source": [
        "df = pd.read_csv('matches.csv')"
      ],
      "metadata": {
        "id": "iLypZ5HGt5al"
      },
      "execution_count": 3,
      "outputs": []
    },
    {
      "cell_type": "code",
      "source": [
        "season_counts = df['season'].value_counts().idxmax()\n",
        "print(\"Season with most matches:\")\n",
        "print(season_counts)"
      ],
      "metadata": {
        "id": "K_fsEVRwuA3Z",
        "colab": {
          "base_uri": "https://localhost:8080/"
        },
        "outputId": "0229ed53-2329-41e0-cd90-5815e2101f01"
      },
      "execution_count": 19,
      "outputs": [
        {
          "output_type": "stream",
          "name": "stdout",
          "text": [
            "Season with most matches:\n",
            "2013\n"
          ]
        }
      ]
    },
    {
      "cell_type": "code",
      "source": [
        "winner_most_matches = df['winner'].value_counts().idxmax()\n",
        "print(winner_most_matches)"
      ],
      "metadata": {
        "colab": {
          "base_uri": "https://localhost:8080/"
        },
        "id": "UWEYx7ebvnQa",
        "outputId": "5848f49b-f19c-4209-dc99-ba61962bb170"
      },
      "execution_count": 20,
      "outputs": [
        {
          "output_type": "stream",
          "name": "stdout",
          "text": [
            "Mumbai Indians\n"
          ]
        }
      ]
    },
    {
      "cell_type": "code",
      "source": [
        "matches_each_venue = df['venue'].value_counts()\n",
        "print(matches_each_venue)"
      ],
      "metadata": {
        "colab": {
          "base_uri": "https://localhost:8080/"
        },
        "id": "wifzBhBCv1zu",
        "outputId": "f512b319-df9d-4901-92e6-0287f3813421"
      },
      "execution_count": 11,
      "outputs": [
        {
          "output_type": "stream",
          "name": "stdout",
          "text": [
            "Eden Gardens                                            77\n",
            "M Chinnaswamy Stadium                                   73\n",
            "Wankhede Stadium                                        73\n",
            "Feroz Shah Kotla                                        67\n",
            "Rajiv Gandhi International Stadium, Uppal               56\n",
            "MA Chidambaram Stadium, Chepauk                         49\n",
            "Sawai Mansingh Stadium                                  47\n",
            "Punjab Cricket Association Stadium, Mohali              35\n",
            "Maharashtra Cricket Association Stadium                 21\n",
            "Subrata Roy Sahara Stadium                              17\n",
            "Dr DY Patil Sports Academy                              17\n",
            "Kingsmead                                               15\n",
            "Punjab Cricket Association IS Bindra Stadium, Mohali    14\n",
            "SuperSport Park                                         12\n",
            "Sardar Patel Stadium, Motera                            12\n",
            "Dr. Y.S. Rajasekhara Reddy ACA-VDCA Cricket Stadium     11\n",
            "Brabourne Stadium                                       11\n",
            "Saurashtra Cricket Association Stadium                  10\n",
            "Holkar Cricket Stadium                                   9\n",
            "Himachal Pradesh Cricket Association Stadium             9\n",
            "Rajiv Gandhi Intl. Cricket Stadium                       8\n",
            "M. A. Chidambaram Stadium                                8\n",
            "New Wanderers Stadium                                    8\n",
            "Feroz Shah Kotla Ground                                  7\n",
            "Barabati Stadium                                         7\n",
            "M. Chinnaswamy Stadium                                   7\n",
            "St George's Park                                         7\n",
            "Newlands                                                 7\n",
            "JSCA International Stadium Complex                       7\n",
            "Sheikh Zayed Stadium                                     7\n",
            "Dubai International Cricket Stadium                      7\n",
            "IS Bindra Stadium                                        7\n",
            "Shaheed Veer Narayan Singh International Stadium         6\n",
            "Sharjah Cricket Stadium                                  6\n",
            "Nehru Stadium                                            5\n",
            "Green Park                                               4\n",
            "De Beers Diamond Oval                                    3\n",
            "Vidarbha Cricket Association Stadium, Jamtha             3\n",
            "Buffalo Park                                             3\n",
            "OUTsurance Oval                                          2\n",
            "ACA-VDCA Stadium                                         2\n",
            "Name: venue, dtype: int64\n"
          ]
        }
      ]
    },
    {
      "cell_type": "code",
      "source": [
        "all_teams = pd.concat([df['team1'], df['team2']])\n",
        "team_counts = all_teams.value_counts()\n",
        "print(team_counts)"
      ],
      "metadata": {
        "colab": {
          "base_uri": "https://localhost:8080/"
        },
        "id": "n2nVE845wLWF",
        "outputId": "d84a7ace-e3d0-4c41-cf89-f4efbc0cbc72"
      },
      "execution_count": 12,
      "outputs": [
        {
          "output_type": "stream",
          "name": "stdout",
          "text": [
            "Mumbai Indians                 187\n",
            "Royal Challengers Bangalore    180\n",
            "Kolkata Knight Riders          178\n",
            "Kings XI Punjab                176\n",
            "Chennai Super Kings            164\n",
            "Delhi Daredevils               161\n",
            "Rajasthan Royals               147\n",
            "Sunrisers Hyderabad            108\n",
            "Deccan Chargers                 75\n",
            "Pune Warriors                   46\n",
            "Gujarat Lions                   30\n",
            "Rising Pune Supergiant          16\n",
            "Delhi Capitals                  16\n",
            "Kochi Tuskers Kerala            14\n",
            "Rising Pune Supergiants         14\n",
            "dtype: int64\n"
          ]
        }
      ]
    },
    {
      "cell_type": "code",
      "source": [
        "top_players_counts = df['player_of_match'].value_counts()\n",
        "print(\"Top players of the match:\")\n",
        "print(top_players_counts)"
      ],
      "metadata": {
        "colab": {
          "base_uri": "https://localhost:8080/"
        },
        "id": "fdMEYi0mwx_q",
        "outputId": "1e8dc150-4713-4b91-d6e3-4396d9831cc8"
      },
      "execution_count": 13,
      "outputs": [
        {
          "output_type": "stream",
          "name": "stdout",
          "text": [
            "Top players of the match:\n",
            "CH Gayle          21\n",
            "AB de Villiers    20\n",
            "RG Sharma         17\n",
            "MS Dhoni          17\n",
            "DA Warner         17\n",
            "                  ..\n",
            "PD Collingwood     1\n",
            "NV Ojha            1\n",
            "AC Voges           1\n",
            "J Theron           1\n",
            "S Hetmyer          1\n",
            "Name: player_of_match, Length: 226, dtype: int64\n"
          ]
        }
      ]
    },
    {
      "cell_type": "code",
      "source": [
        "wins_per_team = df['winner'].value_counts()\n",
        "print(wins_per_team)"
      ],
      "metadata": {
        "colab": {
          "base_uri": "https://localhost:8080/"
        },
        "id": "qlV_-M1VxBb2",
        "outputId": "bd23b1f4-4363-4b87-f677-9f834d40d9d1"
      },
      "execution_count": 14,
      "outputs": [
        {
          "output_type": "stream",
          "name": "stdout",
          "text": [
            "Mumbai Indians                 109\n",
            "Chennai Super Kings            100\n",
            "Kolkata Knight Riders           92\n",
            "Royal Challengers Bangalore     84\n",
            "Kings XI Punjab                 82\n",
            "Rajasthan Royals                75\n",
            "Delhi Daredevils                67\n",
            "Sunrisers Hyderabad             58\n",
            "Deccan Chargers                 29\n",
            "Gujarat Lions                   13\n",
            "Pune Warriors                   12\n",
            "Rising Pune Supergiant          10\n",
            "Delhi Capitals                  10\n",
            "Kochi Tuskers Kerala             6\n",
            "Rising Pune Supergiants          5\n",
            "Name: winner, dtype: int64\n"
          ]
        }
      ]
    }
  ]
}